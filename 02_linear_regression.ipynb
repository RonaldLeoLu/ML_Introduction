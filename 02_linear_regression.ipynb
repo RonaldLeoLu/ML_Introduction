{
 "cells": [
  {
   "cell_type": "markdown",
   "metadata": {},
   "source": [
    "Linear Regression\n",
    "====\n",
    "_Leo Lu_\n",
    "\n",
    "Here we will discuss on our first supervised learning algorithm, _Linear Regression_. And I'll give the detailed process of formula derivation so it may be boring to some extent and the knowledge of linear algebra and a little calculus will be helpful for understanding. There is a button used to 'hide' or 'unhide' code lower right for you."
   ]
  },
  {
   "cell_type": "markdown",
   "metadata": {},
   "source": [
    "I'm sorry about that the pictures and tables will all be on the left side if you choose to hide the cells of codes which may make the notebook look a bit strange. So any instruction or suggestion of solution to this problem will help me a lot."
   ]
  },
  {
   "cell_type": "code",
   "execution_count": 2,
   "metadata": {},
   "outputs": [
    {
     "data": {
      "text/html": [
       "\n",
       "<div style=\"text-align:right; margin: 0px 0;\">\n",
       "<button onclick=\"$('.input, .prompt, .output_stderr, .output_error').toggle();\">Hide&Unhide Code</button>\n",
       "<hr/>\n",
       "</div>\n"
      ]
     },
     "metadata": {},
     "output_type": "display_data"
    }
   ],
   "source": [
    "# This part is used to make the buttom work properly and \n",
    "# it's not related to the main topic.\n",
    "# Please don't change anything in this cell. \n",
    "import warnings\n",
    "warnings.filterwarnings(action='ignore')\n",
    "\n",
    "%load_ext autoreload\n",
    "%autoreload 2\n",
    "\n",
    "from IPython.display import display_html\n",
    "display_html(\"\"\"\n",
    "<div style=\"text-align:right; margin: 0px 0;\">\n",
    "<button onclick=\"$('.input, .prompt, .output_stderr, .output_error').toggle();\">Hide&Unhide Code</button>\n",
    "<hr/>\n",
    "</div>\n",
    "\"\"\", raw=True)"
   ]
  },
  {
   "cell_type": "markdown",
   "metadata": {},
   "source": [
    ">Let's start with the famous _Portland Sale Price_ dataset. We see there are three columns in it. <br>\n",
    "* Size - the area of the house\n",
    "* Bedrooms - the number of bedrooms in the house\n",
    "* Price - Sale price"
   ]
  },
  {
   "cell_type": "markdown",
   "metadata": {},
   "source": [
    ">This kind of dataset is often used for the predicting task. We want to predict something, for example the house sale price, based on the information already in hand or collected from Internet or other sources. In this case, we have 47 samples of sale price data in portland consisting of size of the house, the number of bedrooms and the sale price of the house. "
   ]
  },
  {
   "cell_type": "code",
   "execution_count": 1,
   "metadata": {},
   "outputs": [
    {
     "data": {
      "text/html": [
       "<div>\n",
       "<style scoped>\n",
       "    .dataframe tbody tr th:only-of-type {\n",
       "        vertical-align: middle;\n",
       "    }\n",
       "\n",
       "    .dataframe tbody tr th {\n",
       "        vertical-align: top;\n",
       "    }\n",
       "\n",
       "    .dataframe thead th {\n",
       "        text-align: right;\n",
       "    }\n",
       "</style>\n",
       "<table border=\"1\" class=\"dataframe\">\n",
       "  <thead>\n",
       "    <tr style=\"text-align: right;\">\n",
       "      <th></th>\n",
       "      <th>Size</th>\n",
       "      <th>Bedrooms</th>\n",
       "      <th>Price</th>\n",
       "    </tr>\n",
       "  </thead>\n",
       "  <tbody>\n",
       "    <tr>\n",
       "      <th>0</th>\n",
       "      <td>2104</td>\n",
       "      <td>3</td>\n",
       "      <td>399900</td>\n",
       "    </tr>\n",
       "    <tr>\n",
       "      <th>1</th>\n",
       "      <td>1600</td>\n",
       "      <td>3</td>\n",
       "      <td>329900</td>\n",
       "    </tr>\n",
       "    <tr>\n",
       "      <th>2</th>\n",
       "      <td>2400</td>\n",
       "      <td>3</td>\n",
       "      <td>369000</td>\n",
       "    </tr>\n",
       "    <tr>\n",
       "      <th>3</th>\n",
       "      <td>1416</td>\n",
       "      <td>2</td>\n",
       "      <td>232000</td>\n",
       "    </tr>\n",
       "    <tr>\n",
       "      <th>4</th>\n",
       "      <td>3000</td>\n",
       "      <td>4</td>\n",
       "      <td>539900</td>\n",
       "    </tr>\n",
       "    <tr>\n",
       "      <th>5</th>\n",
       "      <td>1985</td>\n",
       "      <td>4</td>\n",
       "      <td>299900</td>\n",
       "    </tr>\n",
       "    <tr>\n",
       "      <th>6</th>\n",
       "      <td>1534</td>\n",
       "      <td>3</td>\n",
       "      <td>314900</td>\n",
       "    </tr>\n",
       "    <tr>\n",
       "      <th>7</th>\n",
       "      <td>1427</td>\n",
       "      <td>3</td>\n",
       "      <td>198999</td>\n",
       "    </tr>\n",
       "    <tr>\n",
       "      <th>8</th>\n",
       "      <td>1380</td>\n",
       "      <td>3</td>\n",
       "      <td>212000</td>\n",
       "    </tr>\n",
       "    <tr>\n",
       "      <th>9</th>\n",
       "      <td>1494</td>\n",
       "      <td>3</td>\n",
       "      <td>242500</td>\n",
       "    </tr>\n",
       "  </tbody>\n",
       "</table>\n",
       "</div>"
      ],
      "text/plain": [
       "   Size  Bedrooms   Price\n",
       "0  2104         3  399900\n",
       "1  1600         3  329900\n",
       "2  2400         3  369000\n",
       "3  1416         2  232000\n",
       "4  3000         4  539900\n",
       "5  1985         4  299900\n",
       "6  1534         3  314900\n",
       "7  1427         3  198999\n",
       "8  1380         3  212000\n",
       "9  1494         3  242500"
      ]
     },
     "execution_count": 1,
     "metadata": {},
     "output_type": "execute_result"
    }
   ],
   "source": [
    "import pandas as pd\n",
    "import numpy as np\n",
    "\n",
    "portland = pd.read_table('./datasets/portland.txt', header=None, names=['Size', 'Bedrooms', 'Price'], sep=',')\n",
    "portland.head(10)"
   ]
  },
  {
   "cell_type": "markdown",
   "metadata": {},
   "source": [
    ">Let's give it a shot in a simple way. Here we're going to slove the problem if we know the space area of a house in Portland, how much should we pay? So the relationship between _'Size'_ and _'Price'_ is what we want to learn. First just take a look at the scatter diagram."
   ]
  },
  {
   "cell_type": "code",
   "execution_count": 3,
   "metadata": {
    "scrolled": true
   },
   "outputs": [
    {
     "data": {
      "text/plain": [
       "<matplotlib.text.Text at 0x2bdea63ff28>"
      ]
     },
     "execution_count": 3,
     "metadata": {},
     "output_type": "execute_result"
    },
    {
     "data": {
      "image/png": "[encoded data removed]",
      "text/plain": [
       "<matplotlib.figure.Figure at 0x2bde81409b0>"
      ]
     },
     "metadata": {
      "needs_background": "light"
     },
     "output_type": "display_data"
    }
   ],
   "source": [
    "%matplotlib inline\n",
    "import matplotlib.pyplot as plt\n",
    "import seaborn as sns\n",
    "\n",
    "ax = plt.figure(figsize=(6,3))\n",
    "sns.scatterplot(x='Size',y='Price',data=portland)\n",
    "plt.title('Portland Sale Price')\n",
    "plt.xlabel('Size (square feet)')\n",
    "plt.ylabel('Price (\\$)')"
   ]
  },
  {
   "cell_type": "markdown",
   "metadata": {},
   "source": [
    ">It seems from the diagram that there is a linear relationship between these two variables. That means we may find a formula in the form of $price=\\theta \\times Size+b$ to approximately express the relation, where $\\theta$ and $b$ are the parameters we are interested in."
   ]
  },
  {
   "cell_type": "markdown",
   "metadata": {},
   "source": [
    ">You see, what we are trying to do is to find out the relationship among what we have got in hand and then make prediction to one of the variables based on the information we have learnt. Such problem is called _Regression Problem_. Most of  the time, we name the variable _'Size'_ as _Independent Variable_ or _Feature_ and _'Price'_ as _Dependent Variable_ or _Target_. If there is a linear relationship between independent variable and dependent variable, we call such kind of regression problem _Linear Regression_. If only 1 independent variable is provided, we call it _Simple Linear Regression_. If there are more than 1 independent variables,  we call it _Multiple Linear Regression_. In majority of cases, we have only 1 dependent variable."
   ]
  },
  {
   "cell_type": "markdown",
   "metadata": {},
   "source": [
    ">We know that _'Price'_ can be expressed by _'Size'_ in the form of $y=\\theta x+b$. Now our task is to find out the values of $\\theta$ and $b$. I think most of us have learnt how to solve linear equations and we can give out a series of certain solutions after we put the values into the equation and use [Cramer's rule](https://en.wikipedia.org/wiki/Cramer%27s_rule) or [Gaussian Elimination](https://en.wikipedia.org/wiki/Gaussian_elimination) to work out the results. However, I'm afraid this doesn't work in this situation."
   ]
  },
  {
   "cell_type": "markdown",
   "metadata": {},
   "source": [
    ">Let's see what will happen if we just put the values we catch from the datasets into the equation substituting the x and y."
   ]
  },
  {
   "cell_type": "markdown",
   "metadata": {},
   "source": [
    "$$399900=\\theta \\times2104+b$$\n",
    "$$329900=\\theta \\times1600+b$$\n",
    "$$369000=\\theta \\times2400+b$$\n",
    "$$……$$"
   ]
  },
  {
   "cell_type": "markdown",
   "metadata": {},
   "source": [
    ">Obivously, we cannot give out the definite numerical solution of this problem. This is a matter of course because these points of samples actually are not in a single line. Therefore, the conventional methods of solving the equations are surely not effective. Then how can we slove the problem?"
   ]
  },
  {
   "cell_type": "markdown",
   "metadata": {},
   "source": [
    ">[Adrien-Marie Legendre](https://en.wikipedia.org/wiki/Adrien-Marie_Legendre), a famous French mathematician told us the answer in one of his paper in 1805. He didn't spend most of energy to find out the definite numerical slolutions. Instead he gave out another thought to looking for the overall balance of errors. And then he introduced the Regular Equations and the famous [Least Square Method](https://en.wikipedia.org/wiki/Least_squares).  "
   ]
  },
  {
   "cell_type": "markdown",
   "metadata": {},
   "source": [
    ">ALERT!!! Now we are beginning to see some necessary mathematic formulas. So I'll introduce some notations first."
   ]
  },
  {
   "cell_type": "markdown",
   "metadata": {},
   "source": [
    ">* $n$:  the rows of sample dataset or the number of training examples<br>\n",
    "* $m$:  the columns of sample dataset or the number of features<br>\n",
    "* $x$:  independent values or features<br>\n",
    "* $x_i$:  the $i^{th}$ independent variable(s) or feature<br>\n",
    "* $y$:  dependent variable or target<br>\n",
    "* $(x, y)$:  one row of dataset or one training sample<br>\n",
    "* $(x^{(i)},y^{(i)})$: $i^{th}$ row of dataset or training sample"
   ]
  },
  {
   "cell_type": "markdown",
   "metadata": {},
   "source": [
    ">For example, $x^{(4)}$ means the fourth training sample. In Portland datasets, it represents the fourth size 1416 when we are discussing on the simple linear regreesion. And pay attention when we have more than 1 independent like if we add _Bedrooms_ into our regression, $x^{(4)}$ is (1416, 2).<br>\n",
    "$x_1$ is the whole first column of dataset so it's just like a vector. Now we can easily write out $x_1^{(2)}$ is 1600 based on the notations as well."
   ]
  },
  {
   "cell_type": "markdown",
   "metadata": {},
   "source": [
    ">OK! Now we go back to the regression problem. In Adrien-Marie Legendre's throught, we can transform the question of calculating the solution to such task: find the parameters ($\\theta$,$b$) that minimize the following formula.\n",
    "$$\\sum_{i=1}^n(f(x^{(i)})-y^{(i)})^2$$\n",
    "Here $f$ means the formula we want to find out and $f(x^{(i)})$ is the ith prediction based on the $x^{(i)}$ and the formula."
   ]
  },
  {
   "cell_type": "markdown",
   "metadata": {},
   "source": [
    ">So we can express our problem in another way.$$J(\\theta,b)=\\frac{1}{2n}\\sum_{i=1}^n(f(x^{(i)})-y^{(i)})^2$$\n",
    "Our target is to look for the proper $\\theta$ and $b$ that minimize $J(\\theta,b)$."
   ]
  },
  {
   "cell_type": "markdown",
   "metadata": {},
   "source": [
    ">This is quite an innovative thought at that time and it is a more statistical solution because Legendre focused on reducing the errors between the ground truth and the prediction so that we can fit an approximately correct line instead of an absolutely accurate one. It's true if we have the minimal error, our line is the closest to the real one. "
   ]
  },
  {
   "cell_type": "markdown",
   "metadata": {},
   "source": [
    ">$J(\\theta,b)$ is called loss function and it is structed by the least mean square thought. First calculate the sum of the square of the difference between $f(x^{(i)})$ and $y^{(i)}$. Then multiply the result by $\\frac{1}{2n}$. The reason why we calculate the square of each sample is to eliminate the effects of positive and negative signs. $\\frac{1}{n}$ is for the average and $\\frac{1}{2}$ can make the following calculation easier."
   ]
  },
  {
   "cell_type": "markdown",
   "metadata": {
    "collapsed": true
   },
   "source": [
    ">The process we look for the proper $\\theta$ and $b$ to minimize $J(\\theta,b)$ is optimization. The method or algorithm we apply into solving the problem is called optimizer. The most common optimizer is [Gradient Descent](https://en.wikipedia.org/wiki/Gradient_descent) method."
   ]
  },
  {
   "cell_type": "markdown",
   "metadata": {},
   "source": [
    ">We won't spend much time on the theory of gradient descent here. And you can find more details when we are talking about nerual network in another notebook in this project. Here we can just see the steps about how it works based on [chain rule](https://en.wikipedia.org/wiki/Chain_rule)."
   ]
  },
  {
   "cell_type": "markdown",
   "metadata": {},
   "source": [
    "<center>If $F(x)=f(g(x))$ for all $x$, then $F^{'}(x)=f^{'}(g(x))g^{'}(x)$, while all fuctions can be derived.</center>"
   ]
  },
  {
   "cell_type": "markdown",
   "metadata": {},
   "source": [
    ">Now we can write down our target function or more definitely loss function. And we are aimed to find $\\theta$ and $b$ that minimize the function or we can say to find the minimum value of this function with the two unkown parameters. So what we should do now is to take a small step towards the minimum point of this function. And the fastest direction is along the gradient of current location. So we need to calculate the derivation of each parameter and update all parameters with the gradient. Maybe this is not easy to understand at once. Just put it aside, we will see it soon in later notebook. Here we just give it a shot to learn how it works."
   ]
  },
  {
   "cell_type": "markdown",
   "metadata": {},
   "source": [
    "![GD](https://raw.githubusercontent.com/RonaldLeoLu/images_for_md/master/CS229/gradient_descent.png)"
   ]
  },
  {
   "cell_type": "markdown",
   "metadata": {},
   "source": [
    ">So our formula for this problem is $y=\\theta x+b$ and our loss function is $J(\\theta,b)$. Let's start with the initial value of parameters: $\\theta=1$ and $b=0$. And we'll keep updating the parameters to reduce $J(\\theta,b)$ with the following rules."
   ]
  },
  {
   "cell_type": "markdown",
   "metadata": {},
   "source": [
    "<center>\n",
    "$$\\theta:=\\theta-\\alpha\\frac{\\partial J}{\\partial\\theta}$$<br>\n",
    "$$b:=b-\\alpha\\frac{\\partial J}{\\partial b}$$\n",
    "</center>"
   ]
  },
  {
   "cell_type": "markdown",
   "metadata": {},
   "source": [
    ">So we can easily to tell that in multiple linear regression problems we would have the formula in this form:$$y=\\sum^{m}_{i=1}\\theta_ix_i+b$$"
   ]
  },
  {
   "cell_type": "markdown",
   "metadata": {},
   "source": [
    ">And our update rules is just like that in simple linear regression."
   ]
  },
  {
   "cell_type": "markdown",
   "metadata": {},
   "source": [
    "$$\\theta_i:=\\theta_i-\\alpha\\frac{\\partial J}{\\partial\\theta_i}$$<br>\n",
    "$$b:=b-\\alpha\\frac{\\partial J}{\\partial b}$$"
   ]
  },
  {
   "cell_type": "markdown",
   "metadata": {},
   "source": [
    ">Here $\\alpha$ is called learning rate which controls our pace towards the minimun point. Either too small or big learning rate may cause the consequence that we go too slow or too fast and miss the destination. Next problem is to calculate the derivations."
   ]
  },
  {
   "cell_type": "markdown",
   "metadata": {},
   "source": [
    "$$\n",
    "\\begin{split}\n",
    "f(x^{(i)})&=\\sum^{m}_{j=1}\\theta_j x^{(i)}_j+b \\\\\n",
    "J(\\theta_1,...,\\theta_n,b)&=\\frac{1}{2n}\\sum_{i=1}^n(f(x^{(i)})-y^{(i)})^2 \\\\\n",
    "\\\\\n",
    "\\frac{\\partial J}{\\partial\\theta_j}&=\\frac{1}{2n}\\frac{\\partial}{\\partial\\theta_j}\\sum_{i=1}^n(f(x^{(i)})-y^{(i)})^2 \\\\\n",
    "&=\\frac{1}{n}\\sum_{i=1}^n(f(x^{(i)})-y^{(i)})\\frac{\\partial}{\\partial\\theta_j}(f(x^{(i)})-y^{(i)}) \\\\\n",
    "&=\\frac{1}{n}\\sum_{i=1}^n(f(x^{(i)})-y^{(i)})x^{(i)}_j \\\\\n",
    "\\\\\n",
    "\\frac{\\partial J}{\\partial b}&=\\frac{1}{2n}\\frac{\\partial}{\\partial b}\\sum_{i=1}^n(f(x^{(i)})-y^{(i)})^2 \\\\\n",
    "&=\\frac{1}{n}\\sum_{i=1}^n(f(x^{(i)})-y^{(i)})\\frac{\\partial}{\\partial b}(f(x^{(i)})-y^{(i)}) \\\\\n",
    "&=\\frac{1}{n}\\sum_{i=1}^n(f(x^{(i)})-y^{(i)})\n",
    "\\end{split}\n",
    "$$"
   ]
  },
  {
   "cell_type": "markdown",
   "metadata": {},
   "source": [
    ">Some supplement about the formulas above."
   ]
  },
  {
   "cell_type": "markdown",
   "metadata": {},
   "source": [
    "$$\n",
    "\\begin{split}\n",
    "\\frac{\\partial}{\\partial\\theta_j}(f(x^{(i)})-y^{(i)})&=\\frac{\\partial}{\\partial\\theta_j}(\\sum_{k=1}^{m}\\theta_kx^{(i)}_k+b-y^{(i)}) \\\\\n",
    "&=x^{(i)}_j \\\\\n",
    "\\\\\n",
    "\\frac{\\partial}{\\partial b}(f(x^{(i)})-y^{(i)})&=\\frac{\\partial}{\\partial b}(\\sum_{k=1}^{m}\\theta_kx^{(i)}_k+b-y^{(i)}) \\\\\n",
    "&= 1\n",
    "\\end{split}\n",
    "$$"
   ]
  },
  {
   "cell_type": "markdown",
   "metadata": {},
   "source": [
    ">So this is a gradient descent way to optimize the parameters and it's also a most popular optimization method in many other algorithms such as logistic regression and back propogation. However, sometimes we have another common method to solve such problems in a matrix form called ordinary least square method which is actually the 'standard' solution on linear regression."
   ]
  },
  {
   "cell_type": "markdown",
   "metadata": {},
   "source": [
    ">First we need to do some necessary transformation. See that, let $x_0^{(i)}=1$ and $\\theta_0=b$ and rewirte our formula in the following way."
   ]
  },
  {
   "cell_type": "markdown",
   "metadata": {},
   "source": [
    "$$\n",
    "\\begin{split}\n",
    "f(x^{(i)})&=\\sum^{m}_{j=1}\\theta_jx^{(i)}_j+x_0^{(i)}b \\\\\n",
    "&=\\sum^{m}_{j=0}\\theta_jx^{(i)}_j \n",
    "\\end{split}\n",
    "$$"
   ]
  },
  {
   "cell_type": "markdown",
   "metadata": {},
   "source": [
    ">We denote $X$ as the whole dataset and $\\theta$ as a vector of $(\\theta_0, ... ,\\theta_m)^T$. Now we can have the formula in this new form."
   ]
  },
  {
   "cell_type": "markdown",
   "metadata": {},
   "source": [
    "$$f(X)=X\\theta$$"
   ]
  },
  {
   "cell_type": "markdown",
   "metadata": {},
   "source": [
    ">Then we denote $y$ as a vector of $(y^{(1)},...,y^{(n)})^T$ and rewrite the loss function in this way."
   ]
  },
  {
   "cell_type": "markdown",
   "metadata": {},
   "source": [
    "$$J(\\theta)=\\frac{1}{2n}(X\\theta-y)^T(X\\theta-y)$$"
   ]
  },
  {
   "cell_type": "markdown",
   "metadata": {},
   "source": [
    ">As we all know, our target is to find $\\theta$ that minimizes $J(\\theta)$ or we can say we need to find $\\theta$ that makes $\\frac{\\partial J(\\theta)}{\\partial\\theta}$ equals 0."
   ]
  },
  {
   "cell_type": "markdown",
   "metadata": {},
   "source": [
    "$$\n",
    "\\begin{split}\n",
    "\\frac{\\partial J(\\theta)}{\\partial\\theta}&=\\frac{1}{2n}\\frac{\\partial}{\\partial\\theta}(X\\theta-y)^T(X\\theta-y) \\\\\n",
    "&=\\frac{1}{2n}\\frac{\\partial}{\\partial\\theta}(\\theta^TX^T-y^T)(X\\theta-y) \\\\\n",
    "&=\\frac{1}{2n}\\frac{\\partial}{\\partial\\theta}(\\theta^TX^TX\\theta-y^TX\\theta-\\theta^TX^Ty+y^Ty)\n",
    "\\end{split}\n",
    "$$"
   ]
  },
  {
   "cell_type": "markdown",
   "metadata": {},
   "source": [
    ">We have the fact that $$\\frac{\\partial x^T\\alpha}{\\partial x}=\\frac{\\partial\\alpha^Tx}{\\partial x}=\\alpha$$\n",
    "And obviously $y^Ty$ has no relation to $\\theta$, so $$\\frac{\\partial}{\\partial\\theta}y^Ty=0$$ Then the derivation can be calculated in the following way."
   ]
  },
  {
   "cell_type": "markdown",
   "metadata": {},
   "source": [
    "$$\n",
    "\\begin{split}\n",
    "\\frac{\\partial J}{\\partial\\theta}&=\\frac{1}{2n}(X^TX\\theta+X^TX\\theta-X^Ty-X^Ty) \\\\\n",
    "&=\\frac{1}{n}(X^TX\\theta-X^Ty)\n",
    "\\end{split}\n",
    "$$"
   ]
  },
  {
   "cell_type": "markdown",
   "metadata": {},
   "source": [
    ">Since there is the target $\\frac{\\partial J(\\theta)}{\\partial\\theta}=0$, we can get the following equation. $$X^TX\\theta=X^Ty$$\n",
    "From this equation, we will have the least square estimate of parameter $\\theta$ $$\\hat\\theta=(X^TX)^{-1}X^Ty$$\n",
    "Finally we have got the proper parameter through a different way."
   ]
  },
  {
   "cell_type": "markdown",
   "metadata": {},
   "source": [
    ">Ok, in my view these are the two most common method to solve such linear regression problems. However, we may be aware of a problem of the second method that the X, our dataset should be invertible. In another notebook we will discuss on this problem. Although it's less accurate, I prefer Gradient Descent to Ordinary Least Square method because the cost of huge matrix calculation will become more expensive with the size of dataset getting larger. Next we will take action to apply our algorithm into real dataset. "
   ]
  },
  {
   "cell_type": "markdown",
   "metadata": {},
   "source": [
    ">Here I have realize the linear regression in three different ways. First I used the LinearRegression function created by the package called scikit-learn, a famous python package including lots of machine learning algorithm. Second I used ordinary least square method and third stochastic gradient descent to calculate the parameters. The codes of the latter two methods can be found in the folder _scripts_."
   ]
  },
  {
   "cell_type": "code",
   "execution_count": 4,
   "metadata": {},
   "outputs": [],
   "source": [
    "from sklearn.linear_model import LinearRegression\n",
    "from scripts import LinearRegressor\n",
    "\n",
    "# Simple data prerocessing ----- normalization\n",
    "portland1 = portland.copy(deep=True)\n",
    "portland1.Size = (portland1['Size'] - portland1['Size'].mean()) / portland1['Size'].std()\n",
    "portland1.Bedrooms = (portland1['Bedrooms'] - portland1['Bedrooms'].mean()) / portland1['Bedrooms'].std()\n",
    "\n",
    "# function to show the results and data visualization\n",
    "def show_results(x, y):\n",
    "    # keep the parameters\n",
    "    cache = {}\n",
    "    # linear regression designed by sklearn\n",
    "    lr = LinearRegression()\n",
    "    lr.fit(x, y)\n",
    "    # linear regression by myself using ols method\n",
    "    lr1 = LinearRegressor(optimizer='ols')\n",
    "    lr1.fit(x, y)\n",
    "    # linear regression by myself using sgd\n",
    "    lr2 = LinearRegressor(max_iter=2500,batch_size=15,optimizer='sgd',learning_rate=4e-3)\n",
    "    lr2.fit(x, y)\n",
    "\n",
    "    print('Coefficients by Sklearn.LinearRegression:\\n','W:',lr.coef_,'b:',lr.intercept_)\n",
    "    cache['sklearn'] = (lr.coef_, lr.intercept_)\n",
    "    w1,b1 = lr1.coef()\n",
    "    cache['ols'] = (w1, b1)\n",
    "    print('Coefficients by OLS method:\\n','W:',w1,'b:',b1)\n",
    "    w2,b2 = lr2.coef()\n",
    "    cache['sgd'] = (w2, b2)\n",
    "    print('Coefficients by SGD method:\\n','W:',w2,'b:',b2)\n",
    "    print('-'*20)\n",
    "\n",
    "    a1 = lr.predict(x)\n",
    "    a2 = lr1.predict(x)\n",
    "    a3 = lr2.predict(x)\n",
    "\n",
    "    from sklearn.metrics import mean_squared_error\n",
    "    e1 = mean_squared_error(a1,y)\n",
    "    e2 = mean_squared_error(a2,y)\n",
    "    e3 = mean_squared_error(a3,y)\n",
    "\n",
    "    print('MSE by Sklearn.LinearRegression:',e1)\n",
    "    print('MSE by OLS method:',e2)\n",
    "    print('MSE by SGD method:',e3)\n",
    "\n",
    "    # Visualization\n",
    "    vls = lr2.scores\n",
    "    plt.plot(list(range(len(vls))),vls)\n",
    "    plt.title('Loss_Iteration by SGD')\n",
    "    plt.xlabel('Iteration times')\n",
    "    plt.ylabel('Loss')\n",
    "    \n",
    "    return cache"
   ]
  },
  {
   "cell_type": "markdown",
   "metadata": {},
   "source": [
    ">Before we begin our work, the dataset should be preprocessed in order to make our predicting more accurate and then we will take a look at the new scatter plot."
   ]
  },
  {
   "cell_type": "code",
   "execution_count": 10,
   "metadata": {},
   "outputs": [
    {
     "data": {
      "text/plain": [
       "<matplotlib.axes._subplots.AxesSubplot at 0x2bdee09c390>"
      ]
     },
     "execution_count": 10,
     "metadata": {},
     "output_type": "execute_result"
    },
    {
     "data": {
      "image/png": "[encoded data removed]",
      "text/plain": [
       "<matplotlib.figure.Figure at 0x2bdee0f32e8>"
      ]
     },
     "metadata": {
      "needs_background": "light"
     },
     "output_type": "display_data"
    }
   ],
   "source": [
    "sns.scatterplot(portland1.Size.values, portland1.Price / 1000)"
   ]
  },
  {
   "cell_type": "markdown",
   "metadata": {},
   "source": [
    ">Here we will see the result of a simple linear regression. We just use the variable _Size_ to predict our sale price."
   ]
  },
  {
   "cell_type": "code",
   "execution_count": 5,
   "metadata": {},
   "outputs": [
    {
     "name": "stdout",
     "output_type": "stream",
     "text": [
      "Coefficients by Sklearn.LinearRegression:\n",
      " W: [105.40142746] b: 340.4126595744681\n",
      "Coefficients by OLS method:\n",
      " W: [105.40142746177929] b: [340.412659574468]\n",
      "Coefficients by SGD method:\n",
      " W: [105.98712151487888] b: [340.4185787340334]\n",
      "--------------------\n",
      "MSE by Sklearn.LinearRegression: 4429.228012115747\n",
      "MSE by OLS method: 4429.228012115749\n",
      "MSE by SGD method: 4429.563786005315\n"
     ]
    },
    {
     "data": {
      "image/png": "[encoded data removed]",
      "text/plain": [
       "<matplotlib.figure.Figure at 0x2bdec6548d0>"
      ]
     },
     "metadata": {
      "needs_background": "light"
     },
     "output_type": "display_data"
    }
   ],
   "source": [
    "x1 = portland1['Size'].values.reshape(-1,1)\n",
    "y1 = portland1['Price'].values / 1000.0\n",
    "# simple linear regression\n",
    "cache1 = show_results(x1, y1)"
   ]
  },
  {
   "cell_type": "markdown",
   "metadata": {},
   "source": [
    ">And let's see the result in plot."
   ]
  },
  {
   "cell_type": "code",
   "execution_count": 12,
   "metadata": {},
   "outputs": [
    {
     "data": {
      "text/plain": [
       "<matplotlib.text.Text at 0x2bdedef2a90>"
      ]
     },
     "execution_count": 12,
     "metadata": {},
     "output_type": "execute_result"
    },
    {
     "data": {
      "image/png": "[encoded data removed]",
      "text/plain": [
       "<matplotlib.figure.Figure at 0x2bdedf544e0>"
      ]
     },
     "metadata": {
      "needs_background": "light"
     },
     "output_type": "display_data"
    }
   ],
   "source": [
    "w0, b0 = cache1['sklearn']\n",
    "w1, b1 = cache1['ols']\n",
    "w2, b2 = cache1['sgd']\n",
    "\n",
    "y0 = x1.dot(w0) + b0\n",
    "y1 = x1.dot(w1) + b1\n",
    "y2 = x1.dot(w2) + b2\n",
    "\n",
    "ax = plt.figure(figsize=(6,3))\n",
    "sns.scatterplot(portland1.Size.values, portland1.Price / 1000)\n",
    "plt.plot(x1, y0, 'b')\n",
    "plt.plot(x1, y1, 'r')\n",
    "plt.plot(x1, y2, 'g')\n",
    "plt.title('Result of Simple Linear Regression')\n",
    "plt.xlabel('Size')"
   ]
  },
  {
   "cell_type": "markdown",
   "metadata": {},
   "source": [
    ">Here we will see the result of a multiple linear regression. We use all the variables to predict our sale price."
   ]
  },
  {
   "cell_type": "code",
   "execution_count": 14,
   "metadata": {},
   "outputs": [
    {
     "name": "stdout",
     "output_type": "stream",
     "text": [
      "Coefficients by Sklearn.LinearRegression:\n",
      " W: [102.84846581   5.24562968] b: 340.4126595744681\n",
      "Coefficients by OLS method:\n",
      " W: [102.84846581213472, 5.245629677249634] b: [340.412659574468]\n",
      "Coefficients by SGD method:\n",
      " W: [101.48182810577505, 5.793555392042875] b: [339.4124302409992]\n",
      "--------------------\n",
      "MSE by Sklearn.LinearRegression: 4408.675782196404\n",
      "MSE by OLS method: 4408.675782196403\n",
      "MSE by SGD method: 4411.084671278687\n"
     ]
    },
    {
     "data": {
      "image/png": "[encoded data removed]",
      "text/plain": [
       "<matplotlib.figure.Figure at 0x2bdee1fbc50>"
      ]
     },
     "metadata": {
      "needs_background": "light"
     },
     "output_type": "display_data"
    }
   ],
   "source": [
    "x2 = portland1[['Size','Bedrooms']].values\n",
    "y2 = portland1['Price'].values / 1000.0\n",
    "# multip linear regression\n",
    "cache2 = show_results(x2, y2)"
   ]
  },
  {
   "cell_type": "markdown",
   "metadata": {},
   "source": [
    ">Also we will take a look at the result."
   ]
  },
  {
   "cell_type": "code",
   "execution_count": 28,
   "metadata": {},
   "outputs": [
    {
     "data": {
      "text/plain": [
       "<mpl_toolkits.mplot3d.art3d.Poly3DCollection at 0x2bdee69a9b0>"
      ]
     },
     "execution_count": 28,
     "metadata": {},
     "output_type": "execute_result"
    },
    {
     "data": {
      "image/png": "[encoded data removed]",
      "text/plain": [
       "<matplotlib.figure.Figure at 0x2bdee618748>"
      ]
     },
     "metadata": {
      "needs_background": "light"
     },
     "output_type": "display_data"
    }
   ],
   "source": [
    "from mpl_toolkits.mplot3d import Axes3D\n",
    "fig = plt.figure()\n",
    "ax = fig.gca(projection='3d')\n",
    "\n",
    "W0, B0 = cache2['sklearn']\n",
    "W1, B1 = cache2['ols']\n",
    "W2, B2 = cache2['sgd']\n",
    "\n",
    "Y0 = x2.dot(W0) + B0\n",
    "Y1 = x2.dot(W1) + B1\n",
    "Y2 = x2.dot(W2) + B2\n",
    "\n",
    "a1 = portland1.Size.values\n",
    "a2 = portland1.Bedrooms.values\n",
    "a3 = y2\n",
    "\n",
    "ax.scatter3D(a1,a2,a3)\n",
    "ax.plot_trisurf(a1,a2,Y0)\n",
    "ax.plot_trisurf(a1,a2,Y1)\n",
    "ax.plot_trisurf(a1,a2,Y2)"
   ]
  },
  {
   "cell_type": "markdown",
   "metadata": {},
   "source": [
    ">Yeah! All the methods work successfully and they almost get the same parameters. The sgd optimizer gets a little different result from the the other two but it's still acceptable and if we keep fine-tuning the hyper parameters or expand the size of our dataset, the result will be much closer."
   ]
  },
  {
   "cell_type": "code",
   "execution_count": null,
   "metadata": {},
   "outputs": [],
   "source": []
  }
 ],
 "metadata": {
  "anaconda-cloud": {},
  "kernelspec": {
   "display_name": "Python [conda env:Anaconda3]",
   "language": "python",
   "name": "conda-env-Anaconda3-py"
  },
  "language_info": {
   "codemirror_mode": {
    "name": "ipython",
    "version": 3
   },
   "file_extension": ".py",
   "mimetype": "text/x-python",
   "name": "python",
   "nbconvert_exporter": "python",
   "pygments_lexer": "ipython3",
   "version": "3.5.6"
  }
 },
 "nbformat": 4,
 "nbformat_minor": 1
}
