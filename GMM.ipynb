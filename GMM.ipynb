{
 "cells": [
  {
   "cell_type": "markdown",
   "metadata": {},
   "source": [
    "Gaussian Mixture Model\n",
    "===\n",
    "_Leo Lu_"
   ]
  },
  {
   "cell_type": "markdown",
   "metadata": {},
   "source": [
    "Basic Rules\n",
    "---\n",
    "Joint and Conditional probability\n",
    "$$p(A,B)=p(A\\mid B)p(B)=p(B\\mid A)p(A)$$"
   ]
  },
  {
   "cell_type": "markdown",
   "metadata": {},
   "source": [
    "Bayes' rule\n",
    "$$p(A\\mid B)=\\frac{p(A,B)}{p(B)}$$"
   ]
  },
  {
   "cell_type": "markdown",
   "metadata": {},
   "source": [
    "If $A_i$s are mutually exclusive events\n",
    "$$p(B)=\\sum_ip(B\\mid A_i)p(A_i)$$\n",
    "$$p(A\\mid B)=\\frac{p(B\\mid A)p(A)}{\\sum_ip(B\\mid A_i)p(A_i)}$$"
   ]
  },
  {
   "cell_type": "markdown",
   "metadata": {},
   "source": [
    "Normal Distribution\n",
    "---\n",
    "Gaussian pdf (probability density function)\n",
    "$$p(x\\mid\\theta)=\\frac{1}{\\sqrt{2\\pi\\sigma^2}}exp\\left(-\\frac{(x-\\mu)^2}{2\\sigma^2}\\right)$$\n",
    "where $\\theta = [\\mu, \\sigma^2]$"
   ]
  },
  {
   "cell_type": "markdown",
   "metadata": {},
   "source": [
    "Likelihood Function\n",
    "---\n",
    "$x_0,x_1,……,x_{N-1}$ is a set of independent observations from pdf parameterised by $\\theta$. Assume $\\sigma^2$ known and $\\mu$ is the mean of the density. \n",
    "$$\n",
    "\\begin{split}\n",
    "L(X\\mid\\mu)=L(x_0,x_1,...x_{N-1}\\mid\\mu)&=\\prod^{N-1}_{i=0}p(x_i\\mid \\mu) \\\\\n",
    "&=\\frac{1}{(2\\pi\\sigma^2)^{\\frac{N}{2}}}exp(-\\frac{1}{2\\sigma^2}\\sum^{N-1}_{i=0}(x_i-\\mu)^2)\n",
    "\\end{split}\n",
    "$$\n",
    "$L(X\\mid\\mu)$ is a function of  $\\mu$ and is called likelihood function."
   ]
  },
  {
   "cell_type": "markdown",
   "metadata": {},
   "source": [
    "Maximum Likelihood Estimator\n",
    "---\n",
    "Given $x_0,x_1,...,x_{N-1}$ and pdf parameterised by $\\theta=(\\theta_0, \\theta_1, ...)^T$.\n",
    "We form likelihood function $$L(X\\mid\\theta)=\\prod^{N-1}_{i=0}p(x_i\\mid\\theta)$$\n",
    "and we can have $$\\left(\\hat\\theta\\right)_{MLE}=\\arg\\max_{\\theta}L(X\\mid\\theta)$$"
   ]
  },
  {
   "cell_type": "markdown",
   "metadata": {},
   "source": [
    "And the example above can be calculated in the following way\n",
    "$$\n",
    "\\begin{split}\n",
    "L(X\\mid\\mu)&=\\frac{1}{(2\\pi\\sigma^2)^{\\frac{N}{2}}}exp(-\\frac{1}{2\\sigma^2}\\sum^{N-1}_{i=0}(x_i-\\mu)^2) \\\\\n",
    "\\log L(X\\mid\\mu)&=-\\frac{N}{2}\\log 2\\pi\\sigma^2-\\frac{1}{2\\sigma^2}\\sum^{N-1}_{i=0}(x_i-\\mu)^2 \\\\\n",
    "\\frac{\\partial\\log L}{\\partial\\mu}&=\\frac{1}{\\sigma^2}\\sum^{N-1}_{i=0}(x_i-\\mu) \\\\\n",
    "\\end{split}\n",
    "$$\n",
    "Let the $\\frac{\\partial\\log L}{\\partial\\mu}=0$ to find the maximum value (Think about why?)\n",
    "$$\n",
    "\\begin{split}\n",
    "\\frac{1}{\\sigma^2}\\sum^{N-1}_{i=0}(x_i-\\mu)&=0 \\\\\n",
    "\\sum^{N-1}_{i=0}(x_i-\\mu)&=0 \\\\\n",
    "\\sum^{N-1}_{i=0}x_i-N\\mu&=0 \\\\\n",
    "\\left(\\hat\\mu\\right)_{MLE}&=\\frac{1}{N}\\sum^{N-1}_{i=0}x_i\n",
    "\\end{split}\n",
    "$$"
   ]
  },
  {
   "cell_type": "markdown",
   "metadata": {},
   "source": [
    "Bayesian Estimation\n",
    "---\n",
    "$\\theta$ is assumed random with pdf $p(\\theta)$ called prior knowledge.\n",
    "$$p(\\theta\\mid x)=\\frac{p(x\\mid\\theta)p(\\theta)}{p(x)}\\propto p(x\\mid\\theta)p(\\theta)$$"
   ]
  },
  {
   "cell_type": "markdown",
   "metadata": {},
   "source": [
    "Assume that $\\mu\\sim N(\\gamma,v^2)$, so\n",
    "$$p(\\mu)=\\frac{1}{\\sqrt{2\\pi v^2}}exp\\left(-\\frac{1}{2v^2}(x-\\gamma)^2\\right)$$\n",
    "then we can calculate the estimator in this way\n",
    "$$\n",
    "\\begin{split}\n",
    "p(\\mu\\mid X)&\\propto p(X\\mid\\mu)p(\\mu) \\\\\n",
    "&\\propto exp\\left(-\\frac{\\sum^{N-1}_{i=0}(x_i-\\mu)^2}{2\\sigma^2}\\right)exp\\left(-\\frac{(\\mu-\\gamma)^2}{2v^2}\\right) \\\\\n",
    "&\\propto exp\\left(\\left(\\frac{N}{\\sigma^2}+\\frac{1}{v^2}\\right)\\mu^2-2\\left(\\frac{\\sum^{N-1}_{i=0}x_i}{\\sigma^2}+\\frac{\\gamma}{v^2}\\right)\\mu\\right) \\\\\n",
    "&\\propto exp\\left(\\mu-\\frac{\\left(\\frac{\\sum^{N-1}_{i=0}x_i}{\\sigma^2}+\\frac{\\gamma}{v^2}\\right)}{\\frac{N}{\\sigma^2}+\\frac{1}{v^2}}\\right)^2 \\\\\n",
    "&\\propto exp\\left(\\mu-\\frac{N\\bar{x}v^2+\\sigma^2\\gamma}{Nv^2+\\sigma^2}\\right)^2\n",
    "\\end{split}\n",
    "$$\n",
    "Let $\\frac{\\partial\\log{p(\\mu\\mid X)}}{\\partial\\mu}=0$ to find the maximum value (MAP)\n",
    "$$\n",
    "\\begin{split}\n",
    "\\frac{\\partial\\log{p(\\mu\\mid X)}}{\\partial\\mu}&=0 \\\\\n",
    "\\mu-\\frac{N\\bar{x}v^2+\\sigma^2\\gamma}{Nv^2+\\sigma^2}&=0 \\\\\n",
    "\\left(\\hat{\\mu}\\right)_{MAP}&=\\frac{N\\bar{x}v^2+\\sigma^2\\gamma}{Nv^2+\\sigma^2}\n",
    "\\end{split}\n",
    "$$"
   ]
  },
  {
   "cell_type": "code",
   "execution_count": null,
   "metadata": {
    "collapsed": true
   },
   "outputs": [],
   "source": []
  }
 ],
 "metadata": {
  "anaconda-cloud": {},
  "kernelspec": {
   "display_name": "Python [default]",
   "language": "python",
   "name": "python3"
  },
  "language_info": {
   "codemirror_mode": {
    "name": "ipython",
    "version": 3
   },
   "file_extension": ".py",
   "mimetype": "text/x-python",
   "name": "python",
   "nbconvert_exporter": "python",
   "pygments_lexer": "ipython3",
   "version": "3.5.2"
  }
 },
 "nbformat": 4,
 "nbformat_minor": 1
}
